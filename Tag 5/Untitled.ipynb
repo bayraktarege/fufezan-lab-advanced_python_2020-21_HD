{
 "cells": [
  {
   "cell_type": "code",
   "execution_count": 1,
   "id": "stupid-involvement",
   "metadata": {},
   "outputs": [
    {
     "name": "stdout",
     "output_type": "stream",
     "text": [
      "Collecting sphinx\n",
      "  Downloading Sphinx-3.5.1-py3-none-any.whl (2.8 MB)\n",
      "Requirement already satisfied: packaging in c:\\users\\bayra\\anaconda3\\envs\\fufezan\\lib\\site-packages (from sphinx) (20.9)\n",
      "Collecting sphinxcontrib-serializinghtml\n",
      "  Using cached sphinxcontrib_serializinghtml-1.1.4-py2.py3-none-any.whl (89 kB)\n",
      "Collecting alabaster<0.8,>=0.7\n",
      "  Using cached alabaster-0.7.12-py2.py3-none-any.whl (14 kB)\n",
      "Collecting snowballstemmer>=1.1\n",
      "  Using cached snowballstemmer-2.1.0-py2.py3-none-any.whl (93 kB)\n",
      "Requirement already satisfied: requests>=2.5.0 in c:\\users\\bayra\\anaconda3\\envs\\fufezan\\lib\\site-packages (from sphinx) (2.25.1)\n",
      "Collecting sphinxcontrib-qthelp\n",
      "  Using cached sphinxcontrib_qthelp-1.0.3-py2.py3-none-any.whl (90 kB)\n",
      "Collecting babel>=1.3\n",
      "  Using cached Babel-2.9.0-py2.py3-none-any.whl (8.8 MB)\n",
      "Requirement already satisfied: Pygments>=2.0 in c:\\users\\bayra\\anaconda3\\envs\\fufezan\\lib\\site-packages (from sphinx) (2.7.4)\n",
      "Requirement already satisfied: colorama>=0.3.5 in c:\\users\\bayra\\anaconda3\\envs\\fufezan\\lib\\site-packages (from sphinx) (0.4.4)\n",
      "Collecting sphinxcontrib-htmlhelp\n",
      "  Using cached sphinxcontrib_htmlhelp-1.0.3-py2.py3-none-any.whl (96 kB)\n",
      "Requirement already satisfied: Jinja2>=2.3 in c:\\users\\bayra\\anaconda3\\envs\\fufezan\\lib\\site-packages (from sphinx) (2.11.2)\n",
      "Collecting sphinxcontrib-jsmath\n",
      "  Using cached sphinxcontrib_jsmath-1.0.1-py2.py3-none-any.whl (5.1 kB)\n",
      "Collecting sphinxcontrib-devhelp\n",
      "  Using cached sphinxcontrib_devhelp-1.0.2-py2.py3-none-any.whl (84 kB)\n",
      "Collecting imagesize\n",
      "  Using cached imagesize-1.2.0-py2.py3-none-any.whl (4.8 kB)\n",
      "Collecting sphinxcontrib-applehelp\n",
      "  Using cached sphinxcontrib_applehelp-1.0.2-py2.py3-none-any.whl (121 kB)\n",
      "Requirement already satisfied: setuptools in c:\\users\\bayra\\anaconda3\\envs\\fufezan\\lib\\site-packages (from sphinx) (52.0.0.post20210125)\n",
      "Collecting docutils>=0.12\n",
      "  Using cached docutils-0.16-py2.py3-none-any.whl (548 kB)\n",
      "Requirement already satisfied: pytz>=2015.7 in c:\\users\\bayra\\anaconda3\\envs\\fufezan\\lib\\site-packages (from babel>=1.3->sphinx) (2021.1)\n",
      "Requirement already satisfied: MarkupSafe>=0.23 in c:\\users\\bayra\\anaconda3\\envs\\fufezan\\lib\\site-packages (from Jinja2>=2.3->sphinx) (1.1.1)\n",
      "Requirement already satisfied: idna<3,>=2.5 in c:\\users\\bayra\\anaconda3\\envs\\fufezan\\lib\\site-packages (from requests>=2.5.0->sphinx) (2.10)\n",
      "Requirement already satisfied: chardet<5,>=3.0.2 in c:\\users\\bayra\\anaconda3\\envs\\fufezan\\lib\\site-packages (from requests>=2.5.0->sphinx) (4.0.0)\n",
      "Requirement already satisfied: urllib3<1.27,>=1.21.1 in c:\\users\\bayra\\anaconda3\\envs\\fufezan\\lib\\site-packages (from requests>=2.5.0->sphinx) (1.26.3)\n",
      "Requirement already satisfied: certifi>=2017.4.17 in c:\\users\\bayra\\anaconda3\\envs\\fufezan\\lib\\site-packages (from requests>=2.5.0->sphinx) (2020.12.5)\n",
      "Requirement already satisfied: pyparsing>=2.0.2 in c:\\users\\bayra\\anaconda3\\envs\\fufezan\\lib\\site-packages (from packaging->sphinx) (2.4.7)\n",
      "Installing collected packages: sphinxcontrib-serializinghtml, sphinxcontrib-qthelp, sphinxcontrib-jsmath, sphinxcontrib-htmlhelp, sphinxcontrib-devhelp, sphinxcontrib-applehelp, snowballstemmer, imagesize, docutils, babel, alabaster, sphinx\n",
      "Successfully installed alabaster-0.7.12 babel-2.9.0 docutils-0.16 imagesize-1.2.0 snowballstemmer-2.1.0 sphinx-3.5.1 sphinxcontrib-applehelp-1.0.2 sphinxcontrib-devhelp-1.0.2 sphinxcontrib-htmlhelp-1.0.3 sphinxcontrib-jsmath-1.0.1 sphinxcontrib-qthelp-1.0.3 sphinxcontrib-serializinghtml-1.1.4\n",
      "Note: you may need to restart the kernel to use updated packages.\n"
     ]
    }
   ],
   "source": [
    "pip install sphinx"
   ]
  },
  {
   "cell_type": "code",
   "execution_count": null,
   "id": "nuclear-counter",
   "metadata": {},
   "outputs": [],
   "source": []
  }
 ],
 "metadata": {
  "kernelspec": {
   "display_name": "Python 3",
   "language": "python",
   "name": "python3"
  },
  "language_info": {
   "codemirror_mode": {
    "name": "ipython",
    "version": 3
   },
   "file_extension": ".py",
   "mimetype": "text/x-python",
   "name": "python",
   "nbconvert_exporter": "python",
   "pygments_lexer": "ipython3",
   "version": "3.7.9"
  }
 },
 "nbformat": 4,
 "nbformat_minor": 5
}
