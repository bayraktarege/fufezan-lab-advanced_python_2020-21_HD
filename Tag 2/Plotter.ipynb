{
 "cells": [
  {
   "cell_type": "code",
   "execution_count": null,
   "id": "periodic-investment",
   "metadata": {},
   "outputs": [],
   "source": [
    "import pandas as pd\n",
    "import plotly\n",
    "import plotly.graph_objs as go"
   ]
  },
  {
   "cell_type": "code",
   "execution_count": null,
   "id": "orange-station",
   "metadata": {},
   "outputs": [],
   "source": [
    "human = pd.read_csv('output1.csv', header=None)\n",
    "octopus = pd.read_csv('output2.csv', header=None)"
   ]
  },
  {
   "cell_type": "code",
   "execution_count": null,
   "id": "sweet-economy",
   "metadata": {},
   "outputs": [],
   "source": [
    "def plotter(col1, col2, organism, a):\n",
    "    plot = [\n",
    "        go.Bar(\n",
    "            x=organism[col1],\n",
    "            y=organism[col2]\n",
    "        )\n",
    "    ]\n",
    "\n",
    "    fig = go.Figure(data=plot)\n",
    "    fig.update_xaxes(title_text=\"Amino acid\")\n",
    "    fig.update_yaxes(title_text=\"Quantity\")\n",
    "    fig.update_layout(template=\"plotly_dark\", title=a)\n",
    "    fig.show()"
   ]
  },
  {
   "cell_type": "code",
   "execution_count": null,
   "id": "induced-onion",
   "metadata": {},
   "outputs": [],
   "source": [
    "plotter(0, 1, human, 'Human proteome')\n",
    "plotter(0, 1, octopus, 'Octopus proteome')"
   ]
  },
  {
   "cell_type": "code",
   "execution_count": null,
   "id": "received-litigation",
   "metadata": {},
   "outputs": [],
   "source": []
  }
 ],
 "metadata": {
  "kernelspec": {
   "display_name": "Python 3",
   "language": "python",
   "name": "python3"
  },
  "language_info": {
   "codemirror_mode": {
    "name": "ipython",
    "version": 3
   },
   "file_extension": ".py",
   "mimetype": "text/x-python",
   "name": "python",
   "nbconvert_exporter": "python",
   "pygments_lexer": "ipython3",
   "version": "3.7.9"
  }
 },
 "nbformat": 4,
 "nbformat_minor": 5
}
