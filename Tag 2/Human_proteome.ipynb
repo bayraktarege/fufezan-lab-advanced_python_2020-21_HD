{
 "cells": [
  {
   "cell_type": "markdown",
   "id": "silver-pharmacy",
   "metadata": {},
   "source": [
    "# Counting Aminoacid Propensity in Human Genome"
   ]
  },
  {
   "cell_type": "code",
   "execution_count": null,
   "id": "optimum-corruption",
   "metadata": {},
   "outputs": [],
   "source": [
    "import csv\n",
    "from collections import Counter"
   ]
  },
  {
   "cell_type": "code",
   "execution_count": null,
   "id": "applicable-tuning",
   "metadata": {},
   "outputs": [],
   "source": [
    "Human_data = \"uniprot-filtered-organism__Homo+sapiens+(Human)+[9606]_+AND+review--.fasta\""
   ]
  },
  {
   "cell_type": "code",
   "execution_count": null,
   "id": "vocational-alloy",
   "metadata": {
    "scrolled": true
   },
   "outputs": [],
   "source": [
    "with open(Human_data) as aas:\n",
    "    whole_seq = \"\" \n",
    "    for line in aas:\n",
    "        if not line.startswith(\">\"):\n",
    "            whole_seq += line.replace(\"\\n\", \"\")\n",
    "print(Counter(whole_seq))"
   ]
  },
  {
   "cell_type": "code",
   "execution_count": null,
   "id": "ongoing-cleaners",
   "metadata": {},
   "outputs": [],
   "source": [
    "processed_data_dict  = {}\n",
    "cnt = Counter(whole_seq)\n",
    "for key, value in cnt.items():\n",
    "    processed_data_dict[key] = value\n",
    "processed_data_dict"
   ]
  },
  {
   "cell_type": "code",
   "execution_count": null,
   "id": "homeless-elizabeth",
   "metadata": {},
   "outputs": [],
   "source": [
    "output_file = open(\"output1.csv\", \"w\")\n",
    "writer = csv.writer(output_file)\n",
    "for key, value in processed_data_dict.items():\n",
    "    writer.writerow([key, value])\n",
    "\n",
    "output_file.close()"
   ]
  },
  {
   "cell_type": "code",
   "execution_count": null,
   "id": "impossible-boards",
   "metadata": {},
   "outputs": [],
   "source": []
  }
 ],
 "metadata": {
  "kernelspec": {
   "display_name": "Python 3",
   "language": "python",
   "name": "python3"
  },
  "language_info": {
   "codemirror_mode": {
    "name": "ipython",
    "version": 3
   },
   "file_extension": ".py",
   "mimetype": "text/x-python",
   "name": "python",
   "nbconvert_exporter": "python",
   "pygments_lexer": "ipython3",
   "version": "3.7.9"
  }
 },
 "nbformat": 4,
 "nbformat_minor": 5
}
