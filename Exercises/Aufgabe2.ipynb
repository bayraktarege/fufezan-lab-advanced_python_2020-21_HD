{
 "cells": [
  {
   "cell_type": "markdown",
   "id": "silver-pharmacy",
   "metadata": {},
   "source": [
    "# Counting Aminoacid Propensity in Human Genome"
   ]
  },
  {
   "cell_type": "code",
   "execution_count": 6,
   "id": "optimum-corruption",
   "metadata": {},
   "outputs": [],
   "source": [
    "import csv\n",
    "from collections import Counter\n",
    "import seaborn as sns"
   ]
  },
  {
   "cell_type": "code",
   "execution_count": 2,
   "id": "applicable-tuning",
   "metadata": {},
   "outputs": [],
   "source": [
    "Human_data = \"uniprot-filtered-organism__Homo+sapiens+(Human)+[9606]_+AND+review--.fasta\""
   ]
  },
  {
   "cell_type": "code",
   "execution_count": 3,
   "id": "vocational-alloy",
   "metadata": {
    "scrolled": true
   },
   "outputs": [
    {
     "name": "stdout",
     "output_type": "stream",
     "text": [
      "Counter({'L': 1132287, 'S': 946500, 'E': 807047, 'A': 796924, 'G': 747025, 'P': 717708, 'V': 677882, 'K': 651378, 'R': 640576, 'T': 608124, 'Q': 541905, 'D': 538336, 'I': 492971, 'F': 414781, 'N': 407941, 'Y': 302772, 'H': 297988, 'C': 261524, 'M': 242334, 'W': 138182, 'U': 36})\n"
     ]
    }
   ],
   "source": [
    "with open(Human_data) as aas:\n",
    "    whole_seq = \"\" \n",
    "    for line in aas:\n",
    "        if not line.startswith(\">\"):\n",
    "            whole_seq += line.replace(\"\\n\", \"\")\n",
    "print(Counter(whole_seq))"
   ]
  },
  {
   "cell_type": "code",
   "execution_count": 4,
   "id": "ongoing-cleaners",
   "metadata": {},
   "outputs": [
    {
     "data": {
      "text/plain": [
       "{'M': 242334,\n",
       " 'K': 651378,\n",
       " 'G': 747025,\n",
       " 'L': 1132287,\n",
       " 'Y': 302772,\n",
       " 'F': 414781,\n",
       " 'Q': 541905,\n",
       " 'S': 946500,\n",
       " 'T': 608124,\n",
       " 'D': 538336,\n",
       " 'E': 807047,\n",
       " 'I': 492971,\n",
       " 'V': 677882,\n",
       " 'P': 717708,\n",
       " 'N': 407941,\n",
       " 'A': 796924,\n",
       " 'C': 261524,\n",
       " 'R': 640576,\n",
       " 'H': 297988,\n",
       " 'W': 138182,\n",
       " 'U': 36}"
      ]
     },
     "execution_count": 4,
     "metadata": {},
     "output_type": "execute_result"
    }
   ],
   "source": [
    "processed_data_dict  = {}\n",
    "cnt = Counter(whole_seq)\n",
    "for key, value in cnt.items():\n",
    "    processed_data_dict[key] = value\n",
    "processed_data_dict"
   ]
  },
  {
   "cell_type": "code",
   "execution_count": 7,
   "id": "impossible-boards",
   "metadata": {},
   "outputs": [
    {
     "data": {
      "text/plain": [
       "<seaborn.axisgrid.FacetGrid at 0x18ec5b77c48>"
      ]
     },
     "execution_count": 7,
     "metadata": {},
     "output_type": "execute_result"
    },
    {
     "data": {
      "image/png": "[encoded data removed]",
      "text/plain": [
       "<Figure size 360x360 with 1 Axes>"
      ]
     },
     "metadata": {
      "needs_background": "light"
     },
     "output_type": "display_data"
    }
   ],
   "source": [
    "sns.displot(data=processed_data_dict)"
   ]
  },
  {
   "cell_type": "code",
   "execution_count": null,
   "id": "powerful-causing",
   "metadata": {},
   "outputs": [],
   "source": []
  }
 ],
 "metadata": {
  "kernelspec": {
   "display_name": "Python 3",
   "language": "python",
   "name": "python3"
  },
  "language_info": {
   "codemirror_mode": {
    "name": "ipython",
    "version": 3
   },
   "file_extension": ".py",
   "mimetype": "text/x-python",
   "name": "python",
   "nbconvert_exporter": "python",
   "pygments_lexer": "ipython3",
   "version": "3.7.9"
  }
 },
 "nbformat": 4,
 "nbformat_minor": 5
}
