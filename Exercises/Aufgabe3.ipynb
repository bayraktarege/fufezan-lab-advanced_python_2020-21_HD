{
 "cells": [
  {
   "cell_type": "markdown",
   "id": "silver-pharmacy",
   "metadata": {},
   "source": [
    "# Counting Aminoacid Propensity in Human Genome"
   ]
  },
  {
   "cell_type": "code",
   "execution_count": 9,
   "id": "optimum-corruption",
   "metadata": {},
   "outputs": [],
   "source": [
    "import csv\n",
    "from collections import Counter\n",
    "import seaborn as sns\n",
    "import matplotlib.pyplot as plt"
   ]
  },
  {
   "cell_type": "code",
   "execution_count": 2,
   "id": "applicable-tuning",
   "metadata": {},
   "outputs": [],
   "source": [
    "Octopus_data = \"uniprot-reviewed_yes+AND+organism_+Octopus.fasta\""
   ]
  },
  {
   "cell_type": "code",
   "execution_count": 3,
   "id": "vocational-alloy",
   "metadata": {
    "scrolled": true
   },
   "outputs": [
    {
     "name": "stdout",
     "output_type": "stream",
     "text": [
      "Counter({'L': 950, 'S': 814, 'A': 721, 'R': 714, 'G': 682, 'I': 666, 'T': 644, 'V': 630, 'F': 622, 'D': 618, 'E': 606, 'P': 557, 'K': 531, 'N': 507, 'M': 468, 'Y': 466, 'H': 395, 'Q': 379, 'C': 276, 'W': 174})\n"
     ]
    }
   ],
   "source": [
    "with open(Octopus_data) as aas:\n",
    "    whole_seq = \"\" \n",
    "    for line in aas:\n",
    "        if not line.startswith(\">\"):\n",
    "            whole_seq += line.replace(\"\\n\", \"\")\n",
    "print(Counter(whole_seq))"
   ]
  },
  {
   "cell_type": "code",
   "execution_count": 4,
   "id": "ongoing-cleaners",
   "metadata": {
    "scrolled": true
   },
   "outputs": [
    {
     "data": {
      "text/plain": [
       "{'N': 507,\n",
       " 'L': 950,\n",
       " 'I': 666,\n",
       " 'R': 714,\n",
       " 'K': 531,\n",
       " 'D': 618,\n",
       " 'V': 630,\n",
       " 'A': 721,\n",
       " 'S': 814,\n",
       " 'E': 606,\n",
       " 'Q': 379,\n",
       " 'M': 468,\n",
       " 'T': 644,\n",
       " 'P': 557,\n",
       " 'G': 682,\n",
       " 'Y': 466,\n",
       " 'H': 395,\n",
       " 'C': 276,\n",
       " 'F': 622,\n",
       " 'W': 174}"
      ]
     },
     "execution_count": 4,
     "metadata": {},
     "output_type": "execute_result"
    }
   ],
   "source": [
    "processed_data_dict  = {}\n",
    "cnt = Counter(whole_seq)\n",
    "for key, value in cnt.items():\n",
    "    processed_data_dict[key] = value\n",
    "processed_data_dict"
   ]
  },
  {
   "cell_type": "code",
   "execution_count": 5,
   "id": "homeless-elizabeth",
   "metadata": {},
   "outputs": [],
   "source": [
    "output_file = open(\"output2.csv\", \"w\")\n",
    "writer = csv.writer(output_file)\n",
    "for key, value in processed_data_dict.items():\n",
    "    writer.writerow([key, value])\n",
    "\n",
    "output_file.close()"
   ]
  },
  {
   "cell_type": "code",
   "execution_count": 12,
   "id": "cutting-eleven",
   "metadata": {},
   "outputs": [
    {
     "data": {
      "text/plain": [
       "<seaborn.axisgrid.FacetGrid at 0x211f13f8588>"
      ]
     },
     "execution_count": 12,
     "metadata": {},
     "output_type": "execute_result"
    },
    {
     "data": {
      "image/png": "[encoded data removed]",
      "text/plain": [
       "<Figure size 360x360 with 1 Axes>"
      ]
     },
     "metadata": {
      "needs_background": "light"
     },
     "output_type": "display_data"
    }
   ],
   "source": [
    "sns.displot(data=processed_data_dict)"
   ]
  },
  {
   "cell_type": "code",
   "execution_count": null,
   "id": "willing-sweden",
   "metadata": {},
   "outputs": [],
   "source": []
  }
 ],
 "metadata": {
  "kernelspec": {
   "display_name": "Python 3",
   "language": "python",
   "name": "python3"
  },
  "language_info": {
   "codemirror_mode": {
    "name": "ipython",
    "version": 3
   },
   "file_extension": ".py",
   "mimetype": "text/x-python",
   "name": "python",
   "nbconvert_exporter": "python",
   "pygments_lexer": "ipython3",
   "version": "3.7.9"
  }
 },
 "nbformat": 4,
 "nbformat_minor": 5
}
